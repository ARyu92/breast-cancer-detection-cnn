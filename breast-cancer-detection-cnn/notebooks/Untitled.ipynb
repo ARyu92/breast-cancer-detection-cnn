{
 "cells": [
  {
   "cell_type": "code",
   "execution_count": 2,
   "id": "07aae43d-098c-47c5-8f74-c4ba6ece54be",
   "metadata": {},
   "outputs": [],
   "source": [
    "import pandas as pd\n",
    "\n",
    "# Load your metadata\n",
    "metadata = pd.read_csv(\"../data/Data/manifest/all_data.csv\")\n",
    "\n",
    "# Drop duplicates by patient_id + laterality + view\n",
    "metadata = metadata.drop_duplicates(\n",
    "    subset=[\"patient_id\", \"left or right breast\", \"image view\"],\n",
    "    keep=\"first\"\n",
    ")\n",
    "\n",
    "metadata.to_csv(\"../data/Data/manifest/all_data_processed.csv\", index=False)\n"
   ]
  },
  {
   "cell_type": "code",
   "execution_count": null,
   "id": "542a5ac6-d38d-4285-8226-7d3a4b1aed1c",
   "metadata": {},
   "outputs": [],
   "source": []
  }
 ],
 "metadata": {
  "kernelspec": {
   "display_name": "Python 3 (ipykernel)",
   "language": "python",
   "name": "python3"
  },
  "language_info": {
   "codemirror_mode": {
    "name": "ipython",
    "version": 3
   },
   "file_extension": ".py",
   "mimetype": "text/x-python",
   "name": "python",
   "nbconvert_exporter": "python",
   "pygments_lexer": "ipython3",
   "version": "3.10.11"
  }
 },
 "nbformat": 4,
 "nbformat_minor": 5
}
